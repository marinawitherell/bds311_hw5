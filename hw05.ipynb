{
 "cells": [
  {
   "cell_type": "code",
   "execution_count": 130,
   "metadata": {
    "deletable": false,
    "editable": false,
    "tags": []
   },
   "outputs": [],
   "source": [
    "# Initialize Otter\n",
    "import otter\n",
    "grader = otter.Notebook(\"hw05.ipynb\")"
   ]
  },
  {
   "cell_type": "markdown",
   "metadata": {},
   "source": [
    "# Homework 5: Simulating random events\n",
    "# Due Monday 2/19 at 11:59pm"
   ]
  },
  {
   "cell_type": "code",
   "execution_count": 131,
   "metadata": {
    "tags": []
   },
   "outputs": [],
   "source": [
    "import autograder_tools as at\n",
    "import matplotlib.pyplot as plt\n",
    "import numpy as np\n",
    "import pandas as pd\n"
   ]
  },
  {
   "cell_type": "markdown",
   "metadata": {},
   "source": [
    "## Point Breakdown\n",
    "\n",
    "| **Question #** | **Points**  |\n",
    "| -------------- | :---------: |\n",
    "| Question 1     | 29          |\n",
    "| Question 2     | 24          |"
   ]
  },
  {
   "cell_type": "markdown",
   "metadata": {},
   "source": [
    "## Question 1: Random mutation of genes\n",
    "The mutation of genes can be modeled as random replacement of individual nucleotides. We will simulate this process by generating strings of DNA from the set `{ A, C, G, T}` and treating a mutation as a change in the letter at a random position."
   ]
  },
  {
   "cell_type": "markdown",
   "metadata": {},
   "source": [
    "### Question 1A (5pts): Generate a random string of DNA  \n",
    "Use `np.random.choice()` to generate an array of 500 characters from the set  `{ A, C, G, T}`. Convert this array to a string with the `''.join()` method. <br>\n",
    "For example `''.join(['A', 'B', 'C'])`\n",
    "returns `'ABC'`.\n",
    "\n",
    "Assign this string to the variable `start_dna` for grading."
   ]
  },
  {
   "cell_type": "code",
   "execution_count": 132,
   "metadata": {
    "tags": []
   },
   "outputs": [],
   "source": [
    "dna_chars= np.random.choice(['A', 'C', 'G', 'T'], 500, p=[0.25,0.25,0.25,0.25])\n",
    "start_dna= ''.join(dna_chars)"
   ]
  },
  {
   "cell_type": "code",
   "execution_count": 133,
   "metadata": {
    "deletable": false,
    "editable": false,
    "tags": []
   },
   "outputs": [
    {
     "data": {
      "text/html": [
       "<p><strong><pre style='display: inline;'>q1a</pre></strong> passed! 💯</p>"
      ],
      "text/plain": [
       "q1a results: All test cases passed!"
      ]
     },
     "execution_count": 133,
     "metadata": {},
     "output_type": "execute_result"
    }
   ],
   "source": [
    "grader.check(\"q1a\")"
   ]
  },
  {
   "cell_type": "markdown",
   "metadata": {},
   "source": [
    "### Question 1b (10 pts): DNA String Mutation    \n",
    "Write a function called `mutate_once`. The function should have one input, `input_dna`, a string. It should return a string of same length in which one random mutation has occurred. To do this, you should select a random position along the input string and replace the current nucleotide with one of the three other nucleotides (chosen randomly). \n",
    "\n",
    "*Note*: this function should work for an input string of any size."
   ]
  },
  {
   "cell_type": "code",
   "execution_count": 134,
   "metadata": {
    "tags": []
   },
   "outputs": [
    {
     "name": "stdout",
     "output_type": "stream",
     "text": [
      "dna before mutation:  ATGC\n",
      "dna after 1 mutation: GTGC\n"
     ]
    }
   ],
   "source": [
    "def get_letter(og_letter):\n",
    "    if og_letter == 'A':\n",
    "        return np.random.choice(['T', 'C', 'G'], 1, p=[0.33, 0.33, 0.34])\n",
    "    if og_letter == 'T':\n",
    "        return np.random.choice(['A', 'C', 'G'], 1, p=[0.33, 0.34, 0.33])\n",
    "    if og_letter == 'C':\n",
    "        return np.random.choice(['T', 'A', 'G'], 1, p=[0.34, 0.33, 0.33])\n",
    "    if og_letter =='G':\n",
    "        return np.random.choice(['T', 'C', 'A'], 1, p=[0.33, 0.33, 0.34])\n",
    "\n",
    "def mutate_once(input_dna):\n",
    "    random_num = np.random.choice(np.arange(len(input_dna)))\n",
    "    og_letter = input_dna[random_num]\n",
    "    new_letter = get_letter(og_letter)\n",
    "    new_letter = new_letter[0]\n",
    "    new_string = ''.join([input_dna[:random_num], new_letter, input_dna[random_num+1:]])\n",
    "    return new_string\n",
    "    \n",
    "# test your function using these print statements below\n",
    "print(f'dna before mutation:  ATGC')\n",
    "print(f'dna after 1 mutation: {mutate_once(\"ATGC\")}') # test function"
   ]
  },
  {
   "cell_type": "code",
   "execution_count": 135,
   "metadata": {
    "deletable": false,
    "editable": false,
    "tags": []
   },
   "outputs": [
    {
     "data": {
      "text/html": [
       "<p><strong><pre style='display: inline;'>q1b</pre></strong> passed! ✨</p>"
      ],
      "text/plain": [
       "q1b results: All test cases passed!"
      ]
     },
     "execution_count": 135,
     "metadata": {},
     "output_type": "execute_result"
    }
   ],
   "source": [
    "grader.check(\"q1b\")"
   ]
  },
  {
   "cell_type": "markdown",
   "metadata": {},
   "source": [
    "### Question 1c (7pts): Hamming distance\n",
    "The [Hamming distance](https://en.wikipedia.org/wiki/Hamming_distance) is defined as the number of positions in which two equal length strings differ. For DNA. the Hamming distance is the number of positions for which two DNA sequences of the same length have different bases.\n",
    "\n",
    "For example, the Hamming distance between `AAAA` and  `AAAT` is 1, as the bases are different only at the last position. \n",
    "  \n",
    "Define a function named `hamming` which takes two separate strings as inputs and returns the Hamming distance between them. Assume the input strings are of equal length.  \n"
   ]
  },
  {
   "cell_type": "code",
   "execution_count": 136,
   "metadata": {
    "tags": []
   },
   "outputs": [],
   "source": [
    "def hamming(str1, str2):\n",
    "    ham_num = 0\n",
    "    for i in range(len(str1)):\n",
    "        if str1[i] != str2[i]:\n",
    "            ham_num = ham_num + 1\n",
    "    return ham_num"
   ]
  },
  {
   "cell_type": "code",
   "execution_count": 137,
   "metadata": {
    "deletable": false,
    "editable": false,
    "tags": []
   },
   "outputs": [
    {
     "data": {
      "text/html": [
       "<p><strong><pre style='display: inline;'>q1c</pre></strong> passed! 🌈</p>"
      ],
      "text/plain": [
       "q1c results: All test cases passed!"
      ]
     },
     "execution_count": 137,
     "metadata": {},
     "output_type": "execute_result"
    }
   ],
   "source": [
    "grader.check(\"q1c\")"
   ]
  },
  {
   "cell_type": "markdown",
   "metadata": {
    "deletable": false,
    "editable": false
   },
   "source": [
    "### Question 1d (7pts): Plotting changes to DNA over successive mutation events\n",
    "Use your `mutate_once` function to successively mutate `start_dna` (as generated in **q1a**)  7000 times. After each mutation, calculate the proportion of the DNA that is different from the original starting DNA string. To calculate this proportion, use the `hamming` function and divide by the length of the DNA string. After each mutation, save the calculated proportion to a list, `proportion_changed_list`. \n",
    "  \n",
    "Make a plot of how this changed proportion varies with successive mutations. Plot proportion of DNA changed on vertical axis and mutation number on the horizontal axis."
   ]
  },
  {
   "cell_type": "code",
   "execution_count": 138,
   "metadata": {
    "tags": []
   },
   "outputs": [
    {
     "data": {
      "text/plain": [
       "Text(0.5, 1.0, 'Proportion of Different DNA vs Number of Mutations')"
      ]
     },
     "execution_count": 138,
     "metadata": {},
     "output_type": "execute_result"
    },
    {
     "data": {
      "image/png": "[encoded data removed]",
      "text/plain": [
       "<Figure size 400x400 with 1 Axes>"
      ]
     },
     "metadata": {},
     "output_type": "display_data"
    }
   ],
   "source": [
    "proportion_changed_list = []\n",
    "dna_string = start_dna\n",
    "\n",
    "for i in range(7000):\n",
    "    new_dna = mutate_once(dna_string)\n",
    "    ham_num = hamming(new_dna, start_dna)\n",
    "    proportion_changed_list.append(ham_num/len(dna_string))\n",
    "    dna_string = new_dna\n",
    "\n",
    "    \n",
    "fig=plt.figure()\n",
    "fig.set_size_inches(4,4)\n",
    "ax=fig.add_subplot(111)\n",
    "ax.plot(range(7000), proportion_changed_list,2, color='k')\n",
    "ax.set_xlabel('Number of Mutations')\n",
    "ax.set_ylabel('Proportion of Different DNA')\n",
    "ax.set_title('Proportion of Different DNA vs Number of Mutations')"
   ]
  },
  {
   "cell_type": "code",
   "execution_count": 139,
   "metadata": {
    "deletable": false,
    "editable": false,
    "tags": []
   },
   "outputs": [
    {
     "data": {
      "text/html": [
       "<p><strong><pre style='display: inline;'>q1d</pre></strong> passed! 🍀</p>"
      ],
      "text/plain": [
       "q1d results: All test cases passed!"
      ]
     },
     "execution_count": 139,
     "metadata": {},
     "output_type": "execute_result"
    }
   ],
   "source": [
    "grader.check(\"q1d\")"
   ]
  },
  {
   "cell_type": "markdown",
   "metadata": {},
   "source": [
    "#### Question 1e (0 pts)\n",
    "Does your plot indicate that the proportion of DNA changed reaches an eventual asymptote? If so, what is this value? Why does this make sense?"
   ]
  },
  {
   "cell_type": "markdown",
   "metadata": {},
   "source": [
    "The plot indicates that the proportion of DNA changed reaches an eventual asymptote, at 0.75. This makes sense because, at most, each character only has a 3/4 (or 0.75) chance of being different than the original letter. Eventually, the DNA is mutated so much that it is compounded to about 0.75."
   ]
  },
  {
   "cell_type": "markdown",
   "metadata": {},
   "source": [
    "## Question 2: Does this fly belong to a new species?\n",
    "\n",
    "The common fruit fly (*Drosophila melanogaster*) has ~700 distinct ommatidia, each of which functions something like an eye. Each ommatidium has eight photoreceptors, which detect light over a specific frequency spectrum. One of these photoreceptor types, named R7, has a *pale* and *yellow* subtype. These subtypes are randomly set in individual ommatidia during development, with an overall distribution of 30% *pale* and 70% *yellow* subtypes.<br>\n",
    "\n",
    "For more background about the biology behind this random process, you can read this [paper](https://www.sciencedirect.com/science/article/pii/S0960982205013151), this [review article](\n",
    "https://www.sciencedaily.com/releases/2006/03/060312205905.htm), or this [paper](\n",
    "https://www.nature.com/articles/nature04615)\n",
    "\n",
    "On a field trip to a remote site in South America, you find an isolated population of fruit flies that appear to be *D. melanogaster* but have some distinct visually-driven behaviors. You bring specimens back to the lab to examine their R7 photoreceptors to see if they adhere to the standard expected distribution. Of 321 R7 photoreceptors, you observe 245 are *yellow* and 76 are *pale*. Use a simulation-based approach to determine the probability of obtaining these results if the subtypes were generated according to the standard 70% *yellow*/30% *pale* probability distribution.\n",
    "\n"
   ]
  },
  {
   "cell_type": "markdown",
   "metadata": {
    "deletable": false,
    "editable": false
   },
   "source": [
    "### Question 2a (8 pts): Simulate one set of photoreceptor measurements\n",
    "Write a function `run_one_fly_simulaton`, which takes a single input, `num_measured_receptors`, the number of photoreceptors measured, and returns `yellow_count`, the number of yellow photoreceptors measured. Your function should call `np.random.choice` to simulate a random process with the 70% yellow, 30% pale probabilities.\n"
   ]
  },
  {
   "cell_type": "code",
   "execution_count": 140,
   "metadata": {
    "tags": []
   },
   "outputs": [
    {
     "name": "stdout",
     "output_type": "stream",
     "text": [
      "232\n"
     ]
    }
   ],
   "source": [
    "def run_one_fly_simulation(num_measured_receptors):\n",
    "    counts = np.random.choice(['yellow', 'pale'], num_measured_receptors, p=[0.7,0.3])\n",
    "    yellow_count = sum(counts=='yellow')\n",
    "    return yellow_count\n",
    "    \n",
    "yellow_observation=run_one_fly_simulation(321)\n",
    "print(yellow_observation)\n",
    "\n",
    "\n"
   ]
  },
  {
   "cell_type": "code",
   "execution_count": 141,
   "metadata": {
    "deletable": false,
    "editable": false,
    "tags": []
   },
   "outputs": [
    {
     "data": {
      "text/html": [
       "<p><strong><pre style='display: inline;'>q2a</pre></strong> passed! 🌈</p>"
      ],
      "text/plain": [
       "q2a results: All test cases passed!"
      ]
     },
     "execution_count": 141,
     "metadata": {},
     "output_type": "execute_result"
    }
   ],
   "source": [
    "grader.check(\"q2a\")"
   ]
  },
  {
   "cell_type": "markdown",
   "metadata": {
    "deletable": false,
    "editable": false
   },
   "source": [
    "### Question 2b (8pts): Simulate many sets of photoreceptor measurements\n",
    "Write a function `run_many_fly_simulations`, which takes two inputs: `num_simulations`, an integer, and `num_measured_receptors`. Your function should return an array which contains the yellow photoreceptor count for each simulation. "
   ]
  },
  {
   "cell_type": "code",
   "execution_count": 142,
   "metadata": {
    "tags": []
   },
   "outputs": [],
   "source": [
    "def run_many_fly_simulations(num_simulations, num_measured_receptors):\n",
    "    yellow_list = []\n",
    "    for sim in np.arange(num_simulations):\n",
    "        yellow_count = run_one_fly_simulation(num_measured_receptors)\n",
    "        yellow_list.append(yellow_count)\n",
    "    return yellow_list\n",
    "\n"
   ]
  },
  {
   "cell_type": "code",
   "execution_count": 143,
   "metadata": {
    "deletable": false,
    "editable": false,
    "tags": []
   },
   "outputs": [
    {
     "data": {
      "text/html": [
       "<p><strong><pre style='display: inline;'>q2b</pre></strong> passed! 🌈</p>"
      ],
      "text/plain": [
       "q2b results: All test cases passed!"
      ]
     },
     "execution_count": 143,
     "metadata": {},
     "output_type": "execute_result"
    }
   ],
   "source": [
    "grader.check(\"q2b\")"
   ]
  },
  {
   "cell_type": "markdown",
   "metadata": {
    "deletable": false,
    "editable": false
   },
   "source": [
    "### Question 2c (8pts): Is the initial observation consistent with the random model?\n",
    "If the underlying probability of a yellow photoreceptor is 70%, then we would expect that over many experiments in which we sampled 321 photoreceptors, the mean yellow count would be 0.7 x 321, or 224.7, which should be close to the simulated mean printed in the above cell. <br>\n",
    "For the observed value of 245 photoreceptors, the difference from this mean was 20.3 (245-224.7). We can simulate many experiments to determine how likely it is to observe a count difference of this magnitude in a given experiment.\n",
    "\n",
    "To do this, generate an array of yellow photoreceptor counts from 1000 simulations using your `run_many_fly_simulations` function. Then make an array `abs_diffs_from_mean` (also length 1000). This array should contain the absolute value of the difference between each simulated count and the expected mean of 224.7 <br>Make a histogram of the values of `abs_diffs_from_mean` and plot a vertical line at the difference corresponding to the observed count of 245.\n",
    "\n",
    "Calculate the proportion of this difference distribution which is higher or equal to the observed difference. Assign this proportion to `pvalue`. This variable `pvalue` indicates the probability of obtaining a difference greater or equal to the observed difference if the random model is correct.\n",
    "\n",
    "\n"
   ]
  },
  {
   "cell_type": "code",
   "execution_count": 144,
   "metadata": {
    "tags": []
   },
   "outputs": [
    {
     "data": {
      "image/png": "[encoded data removed]",
      "text/plain": [
       "<Figure size 400x400 with 1 Axes>"
      ]
     },
     "metadata": {},
     "output_type": "display_data"
    }
   ],
   "source": [
    "yellow_counts = run_many_fly_simulations(1000, 321)\n",
    "abs_diffs_from_mean = []\n",
    "\n",
    "for i in range(1000):\n",
    "    diff = abs(yellow_counts[i] - 224.7)\n",
    "    abs_diffs_from_mean.append(diff)\n",
    "\n",
    "fig=plt.figure()\n",
    "fig.set_size_inches(4,4)\n",
    "ax=fig.add_subplot(111)\n",
    "ax.stem(20.3, 160)\n",
    "\n",
    "my_array=np.arange(0,50,2.5)\n",
    "ax.hist(abs_diffs_from_mean, bins=my_array, orientation='vertical')\n",
    "ax.set_xlabel('Difference')\n",
    "ax.set_ylabel('Counts')\n",
    "ax.set_title('Difference From Mean')\n",
    "\n",
    "counts_over_mean = 0\n",
    "for i in range(1000):\n",
    "    if abs_diffs_from_mean[i] > 20.3:\n",
    "        counts_over_mean = counts_over_mean+1\n",
    "pvalue = counts_over_mean / 1000"
   ]
  },
  {
   "cell_type": "code",
   "execution_count": 145,
   "metadata": {
    "deletable": false,
    "editable": false,
    "tags": []
   },
   "outputs": [
    {
     "data": {
      "text/html": [
       "<p><strong><pre style='display: inline;'>q2c</pre></strong> passed! 🌈</p>"
      ],
      "text/plain": [
       "q2c results: All test cases passed!"
      ]
     },
     "execution_count": 145,
     "metadata": {},
     "output_type": "execute_result"
    }
   ],
   "source": [
    "grader.check(\"q2c\")"
   ]
  },
  {
   "cell_type": "markdown",
   "metadata": {
    "deletable": false,
    "editable": false
   },
   "source": [
    "## Submission\n",
    "\n",
    "Make sure you have run all cells in your notebook in order before running the cell below, so that all images/graphs appear in the output. The cell below will generate a zip file for you to submit. **Please save before exporting!**"
   ]
  },
  {
   "cell_type": "code",
   "execution_count": 129,
   "metadata": {
    "deletable": false,
    "editable": false,
    "tags": []
   },
   "outputs": [
    {
     "name": "stdout",
     "output_type": "stream",
     "text": [
      "Running your submission against local test cases...\n",
      "\n",
      "\n",
      "Your submission received the following results when run against available test cases:\n",
      "\n",
      "    q1a results: All test cases passed!\n",
      "\n",
      "    q1b results: All test cases passed!\n",
      "\n",
      "    q1c results: All test cases passed!\n",
      "\n",
      "    q1d results: All test cases passed!\n",
      "\n",
      "    q2a results: All test cases passed!\n",
      "\n",
      "    q2b results: All test cases passed!\n",
      "\n",
      "    q2c results:\n",
      "        q2c - 1 result:\n",
      "            ❌ Test case failed\n",
      "            Trying:\n",
      "                assert np.isclose(pvalue ** 2, 0.001, atol=0.001)\n",
      "            Expecting nothing\n",
      "            **********************************************************************\n",
      "            Line 1, in q2c 0\n",
      "            Failed example:\n",
      "                assert np.isclose(pvalue ** 2, 0.001, atol=0.001)\n",
      "            Exception raised:\n",
      "                Traceback (most recent call last):\n",
      "                  File \"/opt/conda/lib/python3.11/doctest.py\", line 1353, in __run\n",
      "                    exec(compile(example.source, filename, \"single\",\n",
      "                  File \"<doctest q2c 0[0]>\", line 1, in <module>\n",
      "                    assert np.isclose(pvalue ** 2, 0.001, atol=0.001)\n",
      "                AssertionError\n",
      "\n",
      "        q2c - 2 result:\n",
      "            ❌ Test case failed\n",
      "            Trying:\n",
      "                assert np.isclose(np.std(abs_diffs_from_mean), 4.91, atol=0.7)\n",
      "            Expecting nothing\n",
      "            **********************************************************************\n",
      "            Line 1, in q2c 1\n",
      "            Failed example:\n",
      "                assert np.isclose(np.std(abs_diffs_from_mean), 4.91, atol=0.7)\n",
      "            Exception raised:\n",
      "                Traceback (most recent call last):\n",
      "                  File \"/opt/conda/lib/python3.11/doctest.py\", line 1353, in __run\n",
      "                    exec(compile(example.source, filename, \"single\",\n",
      "                  File \"<doctest q2c 1[0]>\", line 1, in <module>\n",
      "                    assert np.isclose(np.std(abs_diffs_from_mean), 4.91, atol=0.7)\n",
      "                AssertionError\n"
     ]
    },
    {
     "data": {
      "text/html": [
       "\n",
       "                    <p>\n",
       "                        Your submission has been exported. Click\n",
       "                        <a href=\"hw05_2024_02_16T07_01_33_946405.zip\" download=\"hw05_2024_02_16T07_01_33_946405.zip\" target=\"_blank\">here</a> to download\n",
       "                        the zip file.\n",
       "                    </p>\n",
       "                "
      ],
      "text/plain": [
       "<IPython.core.display.HTML object>"
      ]
     },
     "metadata": {},
     "output_type": "display_data"
    }
   ],
   "source": [
    "# Save your notebook first, then run this cell to export your submission.\n",
    "grader.export(pdf=False, run_tests=True)"
   ]
  },
  {
   "cell_type": "markdown",
   "metadata": {},
   "source": [
    " "
   ]
  }
 ],
 "metadata": {
  "kernelspec": {
   "display_name": "Python 3 (ipykernel)",
   "language": "python",
   "name": "python3"
  },
  "language_info": {
   "codemirror_mode": {
    "name": "ipython",
    "version": 3
   },
   "file_extension": ".py",
   "mimetype": "text/x-python",
   "name": "python",
   "nbconvert_exporter": "python",
   "pygments_lexer": "ipython3",
   "version": "3.11.7"
  },
  "otter": {
   "OK_FORMAT": true,
   "tests": {
    "q1a": {
     "name": "q1a",
     "points": 5,
     "suites": [
      {
       "cases": [
        {
         "code": ">>> type(start_dna) == str\nTrue",
         "hidden": false,
         "locked": false
        },
        {
         "code": ">>> len(start_dna) == 500\nTrue",
         "hidden": false,
         "locked": false
        },
        {
         "code": ">>> np.isclose(start_dna.count('A') / 500, 0.25, atol=0.07)\nTrue",
         "hidden": false,
         "locked": false
        }
       ],
       "scored": true,
       "setup": "",
       "teardown": "",
       "type": "doctest"
      }
     ]
    },
    "q1b": {
     "name": "q1b",
     "points": 10,
     "suites": [
      {
       "cases": [
        {
         "code": ">>> def hamming(lhs, rhs):\n...     return len([(x, y) for x, y in zip(lhs, rhs) if x != y])\n>>> z = ''.join(np.random.choice(['A', 'T', 'G', 'C'], size=500))\n>>> m = z\n>>> h = []\n>>> l = 4000\n>>> for i in range(l):\n...     m = mutate_once(m)\n...     h.append(hamming(z, m) / len(m))\n>>> v = np.isclose(np.mean(h[2000:4000]), 0.75, atol=0.11)\n>>> assert v == True\n",
         "hidden": false,
         "locked": false
        }
       ],
       "scored": true,
       "setup": "",
       "teardown": "",
       "type": "doctest"
      }
     ]
    },
    "q1c": {
     "name": "q1c",
     "points": 7,
     "suites": [
      {
       "cases": [
        {
         "code": ">>> v = hamming('AAAAAAC', 'AAGAAAG') == 2\n>>> assert v == True\n",
         "hidden": false,
         "locked": false
        },
        {
         "code": ">>> v = hamming('bingchilling', 'bingchilingg') == 3\n>>> assert v == True\n",
         "hidden": false,
         "locked": false
        }
       ],
       "scored": true,
       "setup": "",
       "teardown": "",
       "type": "doctest"
      }
     ]
    },
    "q1d": {
     "name": "q1d",
     "points": 7,
     "suites": [
      {
       "cases": [
        {
         "code": ">>> def hamming(lhs, rhs):\n...     return len([(x, y) for x, y in zip(lhs, rhs) if x != y])\n>>> v = np.isclose(np.mean(proportion_changed_list[2000:4000]), 0.75, atol=0.11)\n>>> assert v == True\n",
         "hidden": false,
         "locked": false
        }
       ],
       "scored": true,
       "setup": "",
       "teardown": "",
       "type": "doctest"
      }
     ]
    },
    "q2a": {
     "name": "q2a",
     "points": 8,
     "suites": [
      {
       "cases": [
        {
         "code": ">>> assert np.isclose(np.sqrt(run_one_fly_simulation(100000)), 264.4, atol=2)\n",
         "hidden": false,
         "locked": false
        }
       ],
       "scored": true,
       "setup": "",
       "teardown": "",
       "type": "doctest"
      }
     ]
    },
    "q2b": {
     "name": "q2b",
     "points": 8,
     "suites": [
      {
       "cases": [
        {
         "code": ">>> assert np.isclose(np.std(run_many_fly_simulations(1000, 100)), 4.549, atol=0.3)\n",
         "hidden": false,
         "locked": false
        }
       ],
       "scored": true,
       "setup": "",
       "teardown": "",
       "type": "doctest"
      }
     ]
    },
    "q2c": {
     "name": "q2c",
     "points": 8,
     "suites": [
      {
       "cases": [
        {
         "code": ">>> assert np.isclose(pvalue ** 2, 0.001, atol=0.001)\n",
         "hidden": false,
         "locked": false
        },
        {
         "code": ">>> assert np.isclose(np.std(abs_diffs_from_mean), 4.91, atol=0.7)\n",
         "hidden": false,
         "locked": false
        }
       ],
       "scored": true,
       "setup": "",
       "teardown": "",
       "type": "doctest"
      }
     ]
    }
   }
  },
  "vscode": {
   "interpreter": {
    "hash": "b18d74e327eb8b8068554305f8e71b015462905a040f14a59f902d484b80a407"
   }
  }
 },
 "nbformat": 4,
 "nbformat_minor": 4
}
